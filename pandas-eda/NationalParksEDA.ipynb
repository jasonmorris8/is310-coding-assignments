{
  "cells": [
    {
      "cell_type": "markdown",
      "id": "93a2114f-d8f9-462b-9e04-709906a4c270",
      "metadata": {},
      "source": [
        "# Pandas Groupby with National Park Visitation Data (Exercise)\n",
        "\n",
        "# Load the data\n",
        "\n"
      ]
    },
    {
      "cell_type": "code",
      "execution_count": 1,
      "id": "a5666fab",
      "metadata": {},
      "outputs": [
        {
          "data": {
            "text/html": [
              "<div>\n",
              "<style scoped>\n",
              "    .dataframe tbody tr th:only-of-type {\n",
              "        vertical-align: middle;\n",
              "    }\n",
              "\n",
              "    .dataframe tbody tr th {\n",
              "        vertical-align: top;\n",
              "    }\n",
              "\n",
              "    .dataframe thead th {\n",
              "        text-align: right;\n",
              "    }\n",
              "</style>\n",
              "<table border=\"1\" class=\"dataframe\">\n",
              "  <thead>\n",
              "    <tr style=\"text-align: right;\">\n",
              "      <th></th>\n",
              "      <th>ParkName</th>\n",
              "      <th>Region</th>\n",
              "      <th>State</th>\n",
              "      <th>Year</th>\n",
              "      <th>RecreationVisits</th>\n",
              "    </tr>\n",
              "  </thead>\n",
              "  <tbody>\n",
              "    <tr>\n",
              "      <th>0</th>\n",
              "      <td>Acadia NP</td>\n",
              "      <td>Northeast</td>\n",
              "      <td>ME</td>\n",
              "      <td>1979</td>\n",
              "      <td>2787366</td>\n",
              "    </tr>\n",
              "    <tr>\n",
              "      <th>1</th>\n",
              "      <td>Acadia NP</td>\n",
              "      <td>Northeast</td>\n",
              "      <td>ME</td>\n",
              "      <td>1980</td>\n",
              "      <td>2779666</td>\n",
              "    </tr>\n",
              "    <tr>\n",
              "      <th>2</th>\n",
              "      <td>Acadia NP</td>\n",
              "      <td>Northeast</td>\n",
              "      <td>ME</td>\n",
              "      <td>1981</td>\n",
              "      <td>2997972</td>\n",
              "    </tr>\n",
              "    <tr>\n",
              "      <th>3</th>\n",
              "      <td>Acadia NP</td>\n",
              "      <td>Northeast</td>\n",
              "      <td>ME</td>\n",
              "      <td>1982</td>\n",
              "      <td>3572114</td>\n",
              "    </tr>\n",
              "    <tr>\n",
              "      <th>4</th>\n",
              "      <td>Acadia NP</td>\n",
              "      <td>Northeast</td>\n",
              "      <td>ME</td>\n",
              "      <td>1983</td>\n",
              "      <td>4124639</td>\n",
              "    </tr>\n",
              "    <tr>\n",
              "      <th>...</th>\n",
              "      <td>...</td>\n",
              "      <td>...</td>\n",
              "      <td>...</td>\n",
              "      <td>...</td>\n",
              "      <td>...</td>\n",
              "    </tr>\n",
              "    <tr>\n",
              "      <th>2589</th>\n",
              "      <td>Zion NP</td>\n",
              "      <td>Intermountain</td>\n",
              "      <td>UT</td>\n",
              "      <td>2016</td>\n",
              "      <td>4295127</td>\n",
              "    </tr>\n",
              "    <tr>\n",
              "      <th>2590</th>\n",
              "      <td>Zion NP</td>\n",
              "      <td>Intermountain</td>\n",
              "      <td>UT</td>\n",
              "      <td>2017</td>\n",
              "      <td>4504812</td>\n",
              "    </tr>\n",
              "    <tr>\n",
              "      <th>2591</th>\n",
              "      <td>Zion NP</td>\n",
              "      <td>Intermountain</td>\n",
              "      <td>UT</td>\n",
              "      <td>2018</td>\n",
              "      <td>4320033</td>\n",
              "    </tr>\n",
              "    <tr>\n",
              "      <th>2592</th>\n",
              "      <td>Zion NP</td>\n",
              "      <td>Intermountain</td>\n",
              "      <td>UT</td>\n",
              "      <td>2019</td>\n",
              "      <td>4488268</td>\n",
              "    </tr>\n",
              "    <tr>\n",
              "      <th>2593</th>\n",
              "      <td>Zion NP</td>\n",
              "      <td>Intermountain</td>\n",
              "      <td>UT</td>\n",
              "      <td>2020</td>\n",
              "      <td>3591254</td>\n",
              "    </tr>\n",
              "  </tbody>\n",
              "</table>\n",
              "<p>2594 rows × 5 columns</p>\n",
              "</div>"
            ],
            "text/plain": [
              "       ParkName          Region State  Year  RecreationVisits\n",
              "0     Acadia NP      Northeast     ME  1979           2787366\n",
              "1     Acadia NP      Northeast     ME  1980           2779666\n",
              "2     Acadia NP      Northeast     ME  1981           2997972\n",
              "3     Acadia NP      Northeast     ME  1982           3572114\n",
              "4     Acadia NP      Northeast     ME  1983           4124639\n",
              "...         ...             ...   ...   ...               ...\n",
              "2589    Zion NP  Intermountain     UT  2016           4295127\n",
              "2590    Zion NP  Intermountain     UT  2017           4504812\n",
              "2591    Zion NP  Intermountain     UT  2018           4320033\n",
              "2592    Zion NP  Intermountain     UT  2019           4488268\n",
              "2593    Zion NP  Intermountain     UT  2020           3591254\n",
              "\n",
              "[2594 rows x 5 columns]"
            ]
          },
          "execution_count": 1,
          "metadata": {},
          "output_type": "execute_result"
        }
      ],
      "source": [
        "import pandas as pd\n",
        "\n",
        "np_data = pd.read_csv(\"https://raw.githubusercontent.com/melaniewalsh/Neat-Datasets/main/1979-2020-National-Park-Visits-By-State.csv\")\n",
        "np_data"
      ]
    },
    {
      "cell_type": "markdown",
      "id": "c58ef38f",
      "metadata": {},
      "source": [
        "\n",
        "\n",
        "# Exercise 1\n",
        "\n",
        "What is the average number of visits for *each state*?\n",
        "\n",
        "Save as `avg_state_visits` and then view the resulting dataframe.\n",
        "Discuss/consider: What state has the most and least average visits? What\n",
        "patterns or surprises do you notice?\n"
      ]
    },
    {
      "cell_type": "code",
      "execution_count": 3,
      "id": "3c50573c",
      "metadata": {},
      "outputs": [
        {
          "data": {
            "text/plain": [
              "State\n",
              "AK    1.377887e+05\n",
              "AR    1.336286e+06\n",
              "AS    1.627135e+04\n",
              "AZ    1.840670e+06\n",
              "CA    9.730535e+05\n",
              "CO    1.029783e+06\n",
              "FL    4.722664e+05\n",
              "HI    1.307400e+06\n",
              "IN    1.776658e+06\n",
              "KY    1.342024e+06\n",
              "ME    2.909380e+06\n",
              "MI    1.965193e+04\n",
              "MN    2.218540e+05\n",
              "MO    2.465409e+06\n",
              "MT    2.006450e+06\n",
              "ND    5.174973e+05\n",
              "NM    5.423827e+05\n",
              "NV    8.123107e+04\n",
              "OH    2.153601e+06\n",
              "OR    4.796753e+05\n",
              "SC    8.927681e+04\n",
              "SD    8.144197e+05\n",
              "TN    9.506039e+06\n",
              "TX    2.421379e+05\n",
              "UT    1.090876e+06\n",
              "VA    1.518425e+06\n",
              "VI    5.735757e+05\n",
              "WA    1.498398e+06\n",
              "WV    9.854926e+05\n",
              "WY    2.719573e+06\n",
              "Name: RecreationVisits, dtype: float64"
            ]
          },
          "execution_count": 3,
          "metadata": {},
          "output_type": "execute_result"
        }
      ],
      "source": [
        "avg_state_visits = np_data.groupby('State')['RecreationVisits'].mean()\n",
        "\n",
        "avg_state_visits\n"
      ]
    },
    {
      "cell_type": "code",
      "execution_count": 4,
      "id": "39ad4325",
      "metadata": {},
      "outputs": [
        {
          "data": {
            "text/plain": [
              "State\n",
              "TN    9.506039e+06\n",
              "Name: RecreationVisits, dtype: float64"
            ]
          },
          "execution_count": 4,
          "metadata": {},
          "output_type": "execute_result"
        }
      ],
      "source": [
        "\n",
        "avg_state_visits.nlargest(1)"
      ]
    },
    {
      "cell_type": "markdown",
      "id": "57068075",
      "metadata": {},
      "source": [
        "\n",
        "# Exercise 2\n",
        "\n",
        "What is the average number of visits for *each National Park*?\n",
        "\n",
        "Save as `avg_park_visits` and then view the resulting dataframe.\n",
        "\n",
        "Discuss/consider: Which National Park has the most and least average\n",
        "visits? What patterns or surprises do you notice?\n"
      ]
    },
    {
      "cell_type": "code",
      "execution_count": 6,
      "id": "ed999653",
      "metadata": {},
      "outputs": [
        {
          "data": {
            "text/plain": [
              "ParkName\n",
              "Acadia NP                       2.909380e+06\n",
              "Arches NP                       8.315601e+05\n",
              "Badlands NP                     1.016205e+06\n",
              "Big Bend NP                     3.064676e+05\n",
              "Biscayne NP                     4.485172e+05\n",
              "                                    ...     \n",
              "Wind Cave NP                    6.126346e+05\n",
              "Wrangell-St. Elias NP & PRES    4.733967e+04\n",
              "Yellowstone NP                  3.017686e+06\n",
              "Yosemite NP                     3.448971e+06\n",
              "Zion NP                         2.494319e+06\n",
              "Name: RecreationVisits, Length: 63, dtype: float64"
            ]
          },
          "execution_count": 6,
          "metadata": {},
          "output_type": "execute_result"
        }
      ],
      "source": [
        "avg_park_visits = np_data.groupby('ParkName')['RecreationVisits'].mean()\n",
        "\n",
        "avg_park_visits"
      ]
    },
    {
      "cell_type": "code",
      "execution_count": 8,
      "id": "40a1ec25",
      "metadata": {},
      "outputs": [
        {
          "data": {
            "text/plain": [
              "ParkName\n",
              "Great Smoky Mountains NP    9.506039e+06\n",
              "Name: RecreationVisits, dtype: float64"
            ]
          },
          "execution_count": 8,
          "metadata": {},
          "output_type": "execute_result"
        }
      ],
      "source": [
        "avg_park_visits.nlargest(1)"
      ]
    },
    {
      "cell_type": "markdown",
      "id": "77a2bfe0",
      "metadata": {},
      "source": [
        "\n",
        "# Exercise 3:\n",
        "\n",
        "How many National Parks are there in *each state*?\n",
        "\n",
        "Save your answer as `distinct_parks`.\n"
      ]
    },
    {
      "cell_type": "code",
      "execution_count": 9,
      "id": "6ced44aa",
      "metadata": {},
      "outputs": [
        {
          "data": {
            "text/plain": [
              "State\n",
              "AK    8\n",
              "AR    1\n",
              "AS    1\n",
              "AZ    3\n",
              "CA    9\n",
              "CO    4\n",
              "FL    3\n",
              "HI    2\n",
              "IN    1\n",
              "KY    1\n",
              "ME    1\n",
              "MI    1\n",
              "MN    1\n",
              "MO    1\n",
              "MT    1\n",
              "ND    1\n",
              "NM    2\n",
              "NV    1\n",
              "OH    1\n",
              "OR    1\n",
              "SC    1\n",
              "SD    2\n",
              "TN    1\n",
              "TX    2\n",
              "UT    5\n",
              "VA    1\n",
              "VI    1\n",
              "WA    3\n",
              "WV    1\n",
              "WY    2\n",
              "Name: ParkName, dtype: int64"
            ]
          },
          "execution_count": 9,
          "metadata": {},
          "output_type": "execute_result"
        }
      ],
      "source": [
        "distinct_parks = np_data.groupby('State')['ParkName'].nunique()\n",
        "\n",
        "distinct_parks"
      ]
    },
    {
      "cell_type": "markdown",
      "id": "0ac1e298",
      "metadata": {},
      "source": [
        "\n",
        "Discuss/consider: What state has the most and least average visits? What\n",
        "patterns or surprises do you notice?"
      ]
    },
    {
      "cell_type": "code",
      "execution_count": 10,
      "id": "c5df3b43",
      "metadata": {},
      "outputs": [
        {
          "data": {
            "text/plain": [
              "State\n",
              "CA    9\n",
              "Name: ParkName, dtype: int64"
            ]
          },
          "execution_count": 10,
          "metadata": {},
          "output_type": "execute_result"
        }
      ],
      "source": [
        "distinct_parks.nlargest(1)"
      ]
    }
  ],
  "metadata": {
    "kernelspec": {
      "display_name": "Python 3",
      "language": "python",
      "name": "python3"
    },
    "language_info": {
      "codemirror_mode": {
        "name": "ipython",
        "version": 3
      },
      "file_extension": ".py",
      "mimetype": "text/x-python",
      "name": "python",
      "nbconvert_exporter": "python",
      "pygments_lexer": "ipython3",
      "version": "3.9.6"
    }
  },
  "nbformat": 4,
  "nbformat_minor": 5
}
